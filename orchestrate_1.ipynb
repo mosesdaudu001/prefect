{
 "cells": [
  {
   "cell_type": "code",
   "execution_count": 23,
   "id": "866de475",
   "metadata": {},
   "outputs": [],
   "source": [
    "import pathlib\n",
    "# import prefect\n",
    "import pickle\n",
    "import pandas as pd\n",
    "# import numpy as np\n",
    "# import scipy\n",
    "# import sklearn\n",
    "from sklearn.feature_extraction import DictVectorizer\n",
    "from sklearn.metrics import mean_squared_error\n",
    "import mlflow\n",
    "import xgboost as xgb\n",
    "from prefect import task, flow"
   ]
  },
  {
   "cell_type": "code",
   "execution_count": 24,
   "id": "ddb7a1bc",
   "metadata": {},
   "outputs": [],
   "source": [
    "@task(retries=3, retry_delay_seconds=2)\n",
    "def read_data(filename: str) -> pd.DataFrame:\n",
    "    \"\"\"Read data into dataframe\"\"\"\n",
    "    df = pd.read_parquet(filename)\n",
    "    \n",
    "    df.lpep_dropoff_datetime = pd.to_datetime(df.lpep_dropoff_datetime)\n",
    "    df.lpep_pickup_datetime = pd.to_datetime(df.lpep_pickup_datetime)\n",
    "\n",
    "    df['duration'] = df.lpep_dropoff_datetime - df.lpep_pickup_datetime\n",
    "    df.duration = df.duration.apply(lambda td: td.total_seconds() / 60)\n",
    "\n",
    "    df = df[(df.duration >= 1) & (df.duration <= 60)]\n",
    "\n",
    "    categorical = ['PULocationID', 'DOLocationID']\n",
    "    df[categorical] = df[categorical].astype(str)\n",
    "    \n",
    "    return df\n",
    "    "
   ]
  },
  {
   "cell_type": "code",
   "execution_count": 25,
   "id": "ddc8d1ce",
   "metadata": {},
   "outputs": [],
   "source": [
    "@task\n",
    "def add_features(df_train: pd.DataFrame, df_val: pd.DataFrame) -> tuple:\n",
    "    \"\"\"Adds features to the dataset\"\"\"\n",
    "    \n",
    "    df_train['PU_DO'] = df_train['PULocationID'] + '_' + df_train['DOLocationID']\n",
    "    df_val['PU_DO'] = df_val['PULocationID'] + '_' + df_val['DOLocationID']\n",
    "    \n",
    "    categorical = ['PU_DO']\n",
    "    numerical = ['trip_distance']\n",
    "    \n",
    "    dv = DictVectorizer()\n",
    "    \n",
    "    train_dicts = df_train[categorical + numerical].to_dict(orient='records')\n",
    "    val_dicts = df_val[categorical + numerical].to_dict(orient='records')\n",
    "    \n",
    "    X_train = dv.fit_transform(train_dicts)\n",
    "    X_val = dv.transform(val_dicts)\n",
    "    \n",
    "    y_train = df_train['duration'].values\n",
    "    y_val = df_val['duration'].values\n",
    "    \n",
    "    return X_train,X_val, y_train, y_val, dv\n",
    "    "
   ]
  },
  {
   "cell_type": "code",
   "execution_count": 26,
   "id": "d6965e15",
   "metadata": {},
   "outputs": [],
   "source": [
    "@task\n",
    "def train_best_model(X_train,X_val, y_train, y_val, dv):\n",
    "    \"\"\"Trains the model with the best parameters\"\"\"\n",
    "    with mlflow.start_run():\n",
    "        \n",
    "        train = xgb.DMatrix(X_train, label=y_train)\n",
    "        valid = xgb.DMatrix(X_val, label=y_val)\n",
    "        \n",
    "        best_parms = {\n",
    "            'learning_rate' : 0.6620269443945731,\n",
    "            'max_depth' : 75,\n",
    "            'min_child_weight' : 0.6681121434468128,\n",
    "            'objective' : 'reg:linear',\n",
    "            'reg_alpha' : 0.009835858863989126,\n",
    "            'reg_lambda' : 0.23315101108258487,\n",
    "            'seed' : 42\n",
    "        }\n",
    "        \n",
    "        mlflow.log_params(best_parms)\n",
    "        \n",
    "        booster = xgb.train(\n",
    "            params=best_parms,\n",
    "            dtrain=train,\n",
    "            num_boost_round=10,\n",
    "            evals=[(valid, 'validation')],\n",
    "            early_stopping_rounds=20\n",
    "        )\n",
    "        y_pred = booster.predict(valid)\n",
    "        rmse = mean_squared_error(y_val, y_pred, squared=False)\n",
    "        mlflow.log_metric(\"rmse\", rmse)\n",
    "        \n",
    "        pathlib.Path(\"models\").mkdir(exist_ok=True)\n",
    "        \n",
    "        with open(\"models/preprocessor.b\", \"wb\") as f_out:\n",
    "            pickle.dump(dv, f_out)\n",
    "            \n",
    "        mlflow.log_artifact(\"models/preprocessor.b\", artifact_path=\"preprocessor\")\n",
    "        \n",
    "        mlflow.xgboost.log_model(booster, artifact_path=\"models_mlflow\")\n",
    "        \n",
    "        return None"
   ]
  },
  {
   "cell_type": "code",
   "execution_count": 27,
   "id": "a9004b69",
   "metadata": {},
   "outputs": [],
   "source": [
    "@flow\n",
    "def main_flow(train_path = \"data/green_tripdata_2022-01.parquet\",\n",
    "              val_path = \"data/green_tripdata_2022-02.parquet\"):\n",
    "    \n",
    "    \"\"\"The main pipeline\"\"\"\n",
    "    \n",
    "    mlflow.set_tracking_uri(\"http://127.0.0.1:5000\")\n",
    "    mlflow.set_experiment(\"orchestrate-workflow\")\n",
    "    \n",
    "    df_train = read_data(train_path)\n",
    "    df_val = read_data(val_path)\n",
    "    \n",
    "    X_train,X_val, y_train, y_val, dv = add_features(df_train, df_val)\n",
    "    \n",
    "    train_best_model(X_train,X_val, y_train, y_val, dv)\n",
    "    \n",
    "    "
   ]
  },
  {
   "cell_type": "code",
   "execution_count": 28,
   "id": "25cfb217",
   "metadata": {},
   "outputs": [
    {
     "name": "stdout",
     "output_type": "stream",
     "text": [
      "[14:46:16] WARNING: ../src/objective/regression_obj.cu:213: reg:linear is now deprecated in favor of reg:squarederror.\n",
      "[0]\tvalidation-rmse:8.44110\n",
      "[1]\tvalidation-rmse:6.46714\n",
      "[2]\tvalidation-rmse:6.07598\n",
      "[3]\tvalidation-rmse:5.98638\n",
      "[4]\tvalidation-rmse:5.95438\n",
      "[5]\tvalidation-rmse:5.93839\n",
      "[6]\tvalidation-rmse:5.93238\n",
      "[7]\tvalidation-rmse:5.92929\n",
      "[8]\tvalidation-rmse:5.92758\n",
      "[9]\tvalidation-rmse:5.92527\n"
     ]
    },
    {
     "name": "stderr",
     "output_type": "stream",
     "text": [
      "/home/moses/Documents/mlops-zoomcamp/week3/prefect/lib/python3.10/site-packages/_distutils_hack/__init__.py:33: UserWarning: Setuptools is replacing distutils.\n",
      "  warnings.warn(\"Setuptools is replacing distutils.\")\n"
     ]
    }
   ],
   "source": [
    "main_flow()"
   ]
  },
  {
   "cell_type": "code",
   "execution_count": null,
   "id": "75e91ab4",
   "metadata": {},
   "outputs": [],
   "source": []
  },
  {
   "cell_type": "code",
   "execution_count": null,
   "id": "5a152302",
   "metadata": {},
   "outputs": [],
   "source": []
  }
 ],
 "metadata": {
  "kernelspec": {
   "display_name": "Python 3 (ipykernel)",
   "language": "python",
   "name": "python3"
  },
  "language_info": {
   "codemirror_mode": {
    "name": "ipython",
    "version": 3
   },
   "file_extension": ".py",
   "mimetype": "text/x-python",
   "name": "python",
   "nbconvert_exporter": "python",
   "pygments_lexer": "ipython3",
   "version": "3.10.6"
  }
 },
 "nbformat": 4,
 "nbformat_minor": 5
}
